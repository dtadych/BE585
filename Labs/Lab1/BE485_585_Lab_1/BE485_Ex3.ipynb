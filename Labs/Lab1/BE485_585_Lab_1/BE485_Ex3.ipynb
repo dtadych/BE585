{
 "cells": [
  {
   "cell_type": "code",
   "execution_count": 1,
   "metadata": {
    "tags": []
   },
   "outputs": [
    {
     "data": {
      "text/plain": [
       "' BE485  01/18/2019\\n In this exercise:\\n a) Compute the radius for a geosynchronus/geostationary satellite\\n c) given \\n      - G\\n      - m\\n      - t\\n      \\n      \\n \\n'"
      ]
     },
     "execution_count": 1,
     "metadata": {},
     "output_type": "execute_result"
    }
   ],
   "source": [
    "\"\"\" BE485  01/18/2019\n",
    " In this exercise:\n",
    " a) Compute the radius for a geosynchronus/geostationary satellite\n",
    " c) given \n",
    "      - G\n",
    "      - m\n",
    "      - t\n",
    "      \n",
    "      \n",
    " \n",
    "\"\"\""
   ]
  },
  {
   "cell_type": "code",
   "execution_count": 2,
   "metadata": {},
   "outputs": [],
   "source": [
    "\n",
    "# load library modules \n",
    "import os\n",
    "import math"
   ]
  },
  {
   "cell_type": "code",
   "execution_count": 3,
   "metadata": {},
   "outputs": [],
   "source": [
    "\n",
    "# gravitational constant (m3 kg-1 g-2)\n",
    "G=6.674E-11\n",
    "#Earth Mass (kg)\n",
    "M1=5.972E24\n",
    "# sidereal day (seconds)\n",
    "T=86164\n",
    "\n",
    "a=  T*T*G*M1 / (4*math.pi*math.pi)\n",
    "r= math.pow(a,1/3)"
   ]
  },
  {
   "cell_type": "code",
   "execution_count": 4,
   "metadata": {},
   "outputs": [
    {
     "name": "stdout",
     "output_type": "stream",
     "text": [
      " Radius =  42163111.82545868 m =  42163.11182545868 km\n",
      " Radius =  35785011.82545868 m =  35785.011825458685 km\n",
      "program ended.\n"
     ]
    }
   ],
   "source": [
    "print(\" Radius = \",r, \"m = \", r/1000, \"km\" )\n",
    "\n",
    "# *** To complete: ***\n",
    "# Can adjust to AGL - Above Ground - this requires finding the Earth Radius\n",
    "Earth_Radius_m = 6378100\n",
    "Earth_Radius_km  = 6378.1\n",
    "#display a message to know the program ended\n",
    "print(\" Radius = \",r-Earth_Radius_m, \"m = \", r/1000 -Earth_Radius_km, \"km\" )\n",
    "print(\"program ended.\")"
   ]
  },
  {
   "cell_type": "code",
   "execution_count": null,
   "metadata": {},
   "outputs": [],
   "source": []
  }
 ],
 "metadata": {
  "kernelspec": {
   "display_name": "Python 3 (ipykernel)",
   "language": "python",
   "name": "python3"
  },
  "language_info": {
   "codemirror_mode": {
    "name": "ipython",
    "version": 3
   },
   "file_extension": ".py",
   "mimetype": "text/x-python",
   "name": "python",
   "nbconvert_exporter": "python",
   "pygments_lexer": "ipython3",
   "version": "3.8.12"
  }
 },
 "nbformat": 4,
 "nbformat_minor": 4
}
