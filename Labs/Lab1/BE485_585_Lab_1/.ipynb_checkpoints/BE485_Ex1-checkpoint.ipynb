{
 "cells": [
  {
   "cell_type": "markdown",
   "metadata": {},
   "source": [
    "\"\"\" BE485  Lab#1, Ex#1 <br>\n",
    " In this exercise, you will: <br>\n",
    " a) Read tabular data from an Excel file <br>\n",
    " c) Inspect values by  <br>\n",
    "      - Pixel <br>\n",
    "      - Row <br>\n",
    "      - Column <br>\n",
    "      - Window/Frame/Box <br>"
   ]
  },
  {
   "cell_type": "code",
   "execution_count": 10,
   "metadata": {},
   "outputs": [],
   "source": [
    "# load library modules \n",
    "import os\n",
    "import xlrd\n",
    "import numpy as np\n",
    "\n",
    "import pandas as pd"
   ]
  },
  {
   "cell_type": "code",
   "execution_count": 11,
   "metadata": {},
   "outputs": [],
   "source": [
    "# Load the Excel file to be read using Pandas library \n",
    "# also load the \"RED\" sheet for now inot a dataframe (Table)\n",
    "\n",
    "df = pd.read_excel (r'.\\Data\\BE485_UofACampus.xlsx', sheet_name='RED')\n",
    "\n",
    "# Define the Matrix size to read data into \n",
    "nrows=6\n",
    "ncols=10\n",
    "\n",
    "# Create an Array data holder\n",
    "DataRed=np.zeros((nrows,ncols))"
   ]
  },
  {
   "cell_type": "code",
   "execution_count": 25,
   "metadata": {},
   "outputs": [
    {
     "name": "stdout",
     "output_type": "stream",
     "text": [
      "Extracting a small dataset from Excel...\n",
      "\n",
      "The data array is:\n",
      "[[ 75.  42.  55.  81.  87.  75.  82.  82.  49.  13.]\n",
      " [ 75.  50.  44.  64.  75.  57.  55.  69.  68.  28.]\n",
      " [ 76.  67.  79.  97.  90.  83.  70.  62.  44.  30.]\n",
      " [ 45.  76.  84. 105. 107.  78.  77.  60.  44.  54.]\n",
      " [ 23.  57. 107. 112. 110.  91.  84.  61.  37.  62.]\n",
      " [ 17.  81. 113. 107. 117. 109. 101.  74.  44.  59.]]\n"
     ]
    },
    {
     "name": "stdin",
     "output_type": "stream",
     "text": [
      "Enter the ROW number [0 based]:  3\n",
      "Enter the COLUMN number [0 based]:  4\n"
     ]
    },
    {
     "name": "stdout",
     "output_type": "stream",
     "text": [
      "The pixel value at row=  3 and col=  4 is =  107.0\n"
     ]
    }
   ],
   "source": [
    "# Now load data from the Excel Cells and store them into this 2D-array\n",
    "# loop through each row and column to get the value\n",
    "print(\"Extracting a small dataset from Excel...\\n\")\n",
    "\n",
    "# For now we will use simple indexes to load the data form the frame\n",
    "for i in range(0,nrows):\n",
    "    for j in range(0,ncols):\n",
    "        DataRed[i,j]=df.iloc[i,j]\n",
    "\n",
    "# display all values read\n",
    "print(\"The data array is:\")\n",
    "print(DataRed)\n",
    "\n",
    "# get one single pixel/cell value and display it\n",
    "Row = input(\"Enter the ROW number [0 based]: \")\n",
    "Col = input(\"Enter the COLUMN number [0 based]: \")\n",
    "\n",
    "pixelValue=DataRed[int(Row),int(Col)]\n",
    "print(\"The pixel value at row=%3d and col=%3d is = \" %(int(Row),int(Col)),pixelValue)"
   ]
  },
  {
   "cell_type": "code",
   "execution_count": 21,
   "metadata": {},
   "outputs": [
    {
     "name": "stdout",
     "output_type": "stream",
     "text": [
      "The values for row=1 are:\n",
      "[ 7. 18. 20. 10. 15. 11.  6.  0.  0.  0.]\n",
      "The values for column=6 are:\n",
      "[14.  6. 12. 11. 10. 20.]\n"
     ]
    }
   ],
   "source": [
    "# extract a full row\n",
    "print(\"The values for row=1 are:\")\n",
    "#Pay attention to  how we addressed the full row (this is called slicing)\n",
    "rowValues=DataRed[1,:]\n",
    "print(rowValues)\n",
    "\n",
    "# extract a full column\n",
    "print(\"The values for column=6 are:\")\n",
    "#Pay attention to  how we addressed the full row (this is called slicing)\n",
    "colValues=DataRed[:,6]\n",
    "print(colValues)"
   ]
  },
  {
   "cell_type": "markdown",
   "metadata": {},
   "source": [
    "## *** To be completed by student ***\n",
    "### Can you get a subset of rows and columns, like the example below\n",
    "![Window](./Images/Window_Lab_1_Ex_1.jpg \"Window\")\n"
   ]
  },
  {
   "cell_type": "code",
   "execution_count": null,
   "metadata": {},
   "outputs": [],
   "source": [
    "#display a message to know the program ended\n",
    "print(\"program ended.\")"
   ]
  }
 ],
 "metadata": {
  "kernelspec": {
   "display_name": "Python 3",
   "language": "python",
   "name": "python3"
  },
  "language_info": {
   "codemirror_mode": {
    "name": "ipython",
    "version": 3
   },
   "file_extension": ".py",
   "mimetype": "text/x-python",
   "name": "python",
   "nbconvert_exporter": "python",
   "pygments_lexer": "ipython3",
   "version": "3.8.5"
  }
 },
 "nbformat": 4,
 "nbformat_minor": 4
}
