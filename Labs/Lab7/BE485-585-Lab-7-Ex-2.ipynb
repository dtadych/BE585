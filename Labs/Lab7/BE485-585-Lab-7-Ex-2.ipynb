{
 "cells": [
  {
   "cell_type": "markdown",
   "metadata": {},
   "source": [
    "<img src=\"https://vip.arizona.edu/images/logoviplab.png\"/>\n",
    "\n",
    "# <center> <font color='blue'>BE 485/585 -  Lab-7 </font> </center>\n",
    "# <center> <font color='green'>EX-2</font> </center>\n",
    "In this exercise you will learn and understand to:<br>\n",
    "1. Compress and decompress a matrix image using simple RLE algorithms\n",
    "<img src=\"../Data/Lab_7/Data/RLE-Compress.jpg\" />"
   ]
  },
  {
   "cell_type": "code",
   "execution_count": 7,
   "metadata": {},
   "outputs": [],
   "source": [
    "# load library modules \n",
    "import os\n",
    "import numpy as np\n",
    "import matplotlib.pyplot as plt\n",
    "import viplab_lib3 as vip"
   ]
  },
  {
   "cell_type": "code",
   "execution_count": 8,
   "metadata": {},
   "outputs": [
    {
     "name": "stdout",
     "output_type": "stream",
     "text": [
      "Reading BSQ  ../Data/Lab_7/Data/Lab7_Ex2Data.bsq\n"
     ]
    }
   ],
   "source": [
    "#input data    \n",
    "filename=\"../Data/Lab_7/Data/Lab7_Ex2Data.bsq\"\n",
    "nrows=16\n",
    "ncols=16\n",
    "nbands=1\n",
    "datatype=np.int16\n",
    "\n",
    "# Read Data from file (single layer)\n",
    "print(\"Reading BSQ \",filename)\n",
    "Data=vip.BSQ_band_read(filename,0,nrows,ncols) "
   ]
  },
  {
   "cell_type": "code",
   "execution_count": 9,
   "metadata": {},
   "outputs": [
    {
     "data": {
      "text/plain": [
       "<matplotlib.colorbar.Colorbar at 0x22338c1c0a0>"
      ]
     },
     "execution_count": 9,
     "metadata": {},
     "output_type": "execute_result"
    },
    {
     "data": {
      "image/png": "[encoded data removed]",
      "text/plain": [
       "<Figure size 432x288 with 2 Axes>"
      ]
     },
     "metadata": {
      "needs_background": "light"
     },
     "output_type": "display_data"
    }
   ],
   "source": [
    "plt.figure()\n",
    "plt.title('Data to be compressed')\n",
    "plt.imshow(Data)\n",
    "plt.colorbar()"
   ]
  },
  {
   "cell_type": "code",
   "execution_count": 10,
   "metadata": {},
   "outputs": [],
   "source": [
    "#Initalize Array to -1\n",
    "NumRowRLEs=16\n",
    "NumColsRLE=32\n",
    "# Why 32?\n",
    "NumRows=16\n",
    "NumCols=16\n",
    "DataRLE=np.full((NumRowRLEs,NumColsRLE),-10)"
   ]
  },
  {
   "cell_type": "markdown",
   "metadata": {},
   "source": [
    "## Example RLE compression function "
   ]
  },
  {
   "cell_type": "code",
   "execution_count": 11,
   "metadata": {},
   "outputs": [],
   "source": [
    "for iRow in range(NumRows):\n",
    "    CurrVal=Data[iRow,0]\n",
    "    iColRLE=0\n",
    "    DataRLE[iRow,0]=CurrVal\n",
    "    NumRLE=0\n",
    "    for iCol in range(NumCols):\n",
    "        #print(iCol)\n",
    "        if(Data[iRow,iCol] == CurrVal):\n",
    "            NumRLE=NumRLE+1\n",
    "        else:\n",
    "            DataRLE[iRow,iColRLE] = CurrVal\n",
    "            CurrVal=Data[iRow,iCol]\n",
    "            iColRLE=iColRLE+1\n",
    "            DataRLE[iRow,iColRLE]=NumRLE\n",
    "            iColRLE=iColRLE+1\n",
    "            NumRLE=0\n",
    "        if (iCol==16):\n",
    "            DataRLE[iRow,iColRLE] = CurrVal\n",
    "            iColRLE=iColRLE+1\n",
    "            DataRLE[iRow,iColRLE]=NumRLE"
   ]
  },
  {
   "cell_type": "code",
   "execution_count": 12,
   "metadata": {},
   "outputs": [
    {
     "data": {
      "text/plain": [
       "<matplotlib.image.AxesImage at 0x22338cb53a0>"
      ]
     },
     "execution_count": 12,
     "metadata": {},
     "output_type": "execute_result"
    },
    {
     "data": {
      "image/png": "[encoded data removed]",
      "text/plain": [
       "<Figure size 720x1440 with 2 Axes>"
      ]
     },
     "metadata": {
      "needs_background": "light"
     },
     "output_type": "display_data"
    }
   ],
   "source": [
    "# get discrete colormap\n",
    "#n_clusters = 5\n",
    "#cmap = plt.get_cmap('viridis', n_clusters)\n",
    "cmap = plt.get_cmap('gist_rainbow', 15)\n",
    "\n",
    "plt.figure(figsize=(10,20))\n",
    "# linear\n",
    "plt.subplot(121)\n",
    "plt.title('Data to be compressed')\n",
    "plt.imshow(Data, cmap=cmap)\n",
    "#plt.colorbar()\n",
    "\n",
    "# log\n",
    "plt.subplot(122)\n",
    "plt.title('Compressed data with RLE')\n",
    "plt.imshow(DataRLE, cmap=cmap)\n",
    "#plt.colorbar()"
   ]
  },
  {
   "cell_type": "markdown",
   "metadata": {},
   "source": [
    "#To do: Check presentation homework section\n",
    "## <font color=red>Here is your chance to be creative. And do not worry...Just try</font>\n",
    "* Can you design a compression algorithm or modify this RLE approach in this exercise ?\n",
    "* Write code using your proposed compression algorithm to Write Data and Read it back ?"
   ]
  },
  {
   "cell_type": "code",
   "execution_count": 13,
   "metadata": {},
   "outputs": [
    {
     "name": "stdout",
     "output_type": "stream",
     "text": [
      "End of Program\n"
     ]
    }
   ],
   "source": [
    "print(\"End of Program\")"
   ]
  },
  {
   "cell_type": "code",
   "execution_count": null,
   "metadata": {},
   "outputs": [],
   "source": []
  }
 ],
 "metadata": {
  "kernelspec": {
   "display_name": "Python 3",
   "language": "python",
   "name": "python3"
  },
  "language_info": {
   "codemirror_mode": {
    "name": "ipython",
    "version": 3
   },
   "file_extension": ".py",
   "mimetype": "text/x-python",
   "name": "python",
   "nbconvert_exporter": "python",
   "pygments_lexer": "ipython3",
   "version": "3.8.5"
  }
 },
 "nbformat": 4,
 "nbformat_minor": 4
}
